{
    "cells": [
        {
            "cell_type": "markdown",
            "metadata": {
                "collapsed": false
            },
            "source": [
                "# Simple simulation without any actions taken"
            ]
        },
        {
            "attachments": {},
            "cell_type": "markdown",
            "metadata": {
                "collapsed": true,
                "pycharm": {
                    "name": "#%% md\n"
                }
            },
            "source": [
                "The goal of this file is to run a simple simulation with a plot of the temperatures inside and to calculate the total energy use for one month.\n",
                "\n",
                "<br>\n",
                "\n",
                "All the results can be found in the monitor.csv file. This file is under \"examples\" -> \"env name\" (in this case Eplus-demo-V1) -res and the new number after simulation (current is 27). Also progress.csv is available.\n",
                "\n",
                "<br>\n",
                "\n",
                "Questions:\n",
                "-   Why does every month only last 23 days?\n",
                "-   How to change the schedule. Now the temperature setpoint is 21,1C from 07:00 untill 12:00. The rest of the day it is 12,8C\n",
                "    -   Want to change this to 07:00-19:00\n",
                "\n",
                "\n",
                "<br>\n",
                "How to deal with weekends/ non-working hours? Just set it to 12 degrees or completely off.\n",
                "\n",
                "\n"
            ]
        },
        {
            "attachments": {},
            "cell_type": "markdown",
            "metadata": {},
            "source": [
                "# Rule-based controller"
            ]
        },
        {
            "cell_type": "code",
            "execution_count": 1,
            "metadata": {},
            "outputs": [
                {
                    "name": "stderr",
                    "output_type": "stream",
                    "text": [
                        "/usr/local/lib/python3.10/dist-packages/gym/spaces/box.py:73: UserWarning: \u001b[33mWARN: Box bound precision lowered by casting to float32\u001b[0m\n",
                        "  logger.warn(\n"
                    ]
                }
            ],
            "source": [
                "from typing import List, Any, Sequence\n",
                "from sinergym.utils.common import get_season_comfort_range\n",
                "from datetime import datetime\n",
                "import gym\n",
                "import numpy as np\n",
                "import sinergym\n",
                "from sinergym.utils.wrappers import LoggerWrapper\n"
            ]
        },
        {
            "cell_type": "code",
            "execution_count": 2,
            "metadata": {},
            "outputs": [],
            "source": [
                "from sinergym.utils.controllers import RBC5Zone\n",
                "\n",
                "class MyRuleBasedController(RBC5Zone):\n",
                "\n",
                "    def act(self, observation: List[Any]) -> Sequence[Any]:\n",
                "        \"\"\"Select action based on outdoor air drybulb temperature and daytime.\n",
                "\n",
                "        Args:\n",
                "            observation (List[Any]): Perceived observation.\n",
                "\n",
                "        Returns:\n",
                "            Sequence[Any]: Action chosen.\n",
                "        \"\"\"\n",
                "        obs_dict = dict(zip(self.variables['observation'], observation))\n",
                "\n",
                "        out_temp = obs_dict['Site Outdoor Air Drybulb Temperature(Environment)']\n",
                "\n",
                "        begin_working_hour = 7\n",
                "        end_working_hour = 19\n",
                "\n",
                "        day = int(obs_dict['day'])\n",
                "        month = int(obs_dict['month'])\n",
                "        hour = int(obs_dict['hour'])\n",
                "        year = int(obs_dict['year'])\n",
                "\n",
                "        summer_start_date = datetime(year, 6, 1)\n",
                "        summer_final_date = datetime(year, 9, 30)\n",
                "\n",
                "        current_dt = datetime(year, month, day)\n",
                "\n",
                "        # Get season comfort range\n",
                "        if current_dt >= summer_start_date and current_dt <= summer_final_date:\n",
                "            season_comfort_range = self.setpoints_summer\n",
                "        else:\n",
                "            season_comfort_range = self.setpoints_winter\n",
                "        season_comfort_range = get_season_comfort_range(1991,month, day)\n",
                "        # Update setpoints\n",
                "        in_temp = obs_dict['Zone Air Temperature(SPACE1-1)']\n",
                "\n",
                "        current_heat_setpoint = obs_dict[\n",
                "            'Zone Thermostat Heating Setpoint Temperature(SPACE1-1)']\n",
                "        current_cool_setpoint = obs_dict[\n",
                "            'Zone Thermostat Cooling Setpoint Temperature(SPACE1-1)']\n",
                "\n",
                "        new_heat_setpoint = current_heat_setpoint\n",
                "        new_cool_setpoint = current_cool_setpoint\n",
                "\n",
                "        std_heat_setpoint = new_heat_setpoint\n",
                "        std_cool_setpoint = new_cool_setpoint\n",
                "\n",
                "        # if in_temp < season_comfort_range[0]:\n",
                "        #     new_heat_setpoint = current_heat_setpoint + 1\n",
                "        #     new_cool_setpoint = current_cool_setpoint + 1\n",
                "        # elif in_temp > season_comfort_range[1]:\n",
                "        #     new_cool_setpoint = current_cool_setpoint - 1\n",
                "        #     new_heat_setpoint = current_heat_setpoint - 1\n",
                "\n",
                "\n",
                "        action = (new_heat_setpoint, new_cool_setpoint)\n",
                "\n",
                "        if current_dt.weekday() >= 5 or hour not in range(begin_working_hour,end_working_hour):\n",
                "            action = (18, 25.5)\n",
                "        else:\n",
                "            action = (20.0, 23.5)\n",
                "            \n",
                "        return action"
            ]
        },
        {
            "cell_type": "code",
            "execution_count": 3,
            "metadata": {},
            "outputs": [
                {
                    "name": "stdout",
                    "output_type": "stream",
                    "text": [
                        "[2023-01-04 14:23:06,380] EPLUS_ENV_5Zone-hot-continuous-v1_MainThread_ROOT INFO:Updating idf ExternalInterface object if it is not present...\n",
                        "[2023-01-04 14:23:06,383] EPLUS_ENV_5Zone-hot-continuous-v1_MainThread_ROOT INFO:Updating idf Site:Location and SizingPeriod:DesignDay(s) to weather and ddy file...\n",
                        "[2023-01-04 14:23:06,407] EPLUS_ENV_5Zone-hot-continuous-v1_MainThread_ROOT INFO:Updating idf OutPut:Variable and variables XML tree model for BVCTB connection.\n",
                        "[2023-01-04 14:23:06,424] EPLUS_ENV_5Zone-hot-continuous-v1_MainThread_ROOT INFO:Setting up extra configuration in building model if exists...\n",
                        "[2023-01-04 14:23:06,458] EPLUS_ENV_5Zone-hot-continuous-v1_MainThread_ROOT INFO:Setting up action definition in building model if exists...\n",
                        "[2023-01-04 14:23:06,515] EPLUS_ENV_5Zone-hot-continuous-v1_MainThread_ROOT INFO:Creating new EnergyPlus simulation episode...\n"
                    ]
                },
                {
                    "name": "stderr",
                    "output_type": "stream",
                    "text": [
                        "/usr/local/lib/python3.10/dist-packages/gym/spaces/box.py:73: UserWarning: \u001b[33mWARN: Box bound precision lowered by casting to float32\u001b[0m\n",
                        "  logger.warn(\n"
                    ]
                },
                {
                    "name": "stdout",
                    "output_type": "stream",
                    "text": [
                        "[2023-01-04 14:23:06,886] EPLUS_ENV_5Zone-hot-continuous-v1_MainThread_ROOT INFO:EnergyPlus working directory is in /workspaces/sinergym/examples/Eplus-env-5Zone-hot-continuous-v1-res20/Eplus-env-sub_run1\n",
                        "Reward:  -0.8661416491379251 {'timestep': 1, 'time_elapsed': 900, 'year': 1991, 'month': 1, 'day': 1, 'hour': 0, 'total_power': 4543.82625749621, 'total_power_no_units': -0.454382625749621, 'comfort_penalty': -1.2779006725262292, 'abs_comfort': 1.2779006725262292, 'temperatures': [18.72209932747377], 'out_temperature': -9.049999999999999, 'action_': [18, 25.5]}\n",
                        "Reward:  -2415.1307950430582 {'timestep': 2976, 'time_elapsed': 2678400, 'year': 1991, 'month': 2, 'day': 1, 'hour': 0, 'total_power': 6017.331745810768, 'total_power_no_units': -0.6017331745810768, 'comfort_penalty': -2.0000014876789187, 'abs_comfort': 2.0000014876789187, 'temperatures': [17.99999851232108], 'out_temperature': -1.2, 'action_': [18, 25.5]}\n",
                        "[2023-01-04 14:24:30,827] EPLUS_ENV_5Zone-hot-continuous-v1_MainThread_ROOT INFO:EnergyPlus simulation closed successfully. \n"
                    ]
                }
            ],
            "source": [
                "\n",
                "experiment_date = datetime.today().strftime('%Y-%m-%d %H:%M')\n",
                "#environment = 'Eplus-demo-v1'\n",
                "environment  = \"Eplus-5Zone-hot-continuous-v1\"\n",
                "weather_file = \"USA_NY_New.York-J.F.Kennedy.Intl.AP.744860_TMY3.epw\"\n",
                "#weather_file = \"NLD_Amsterdam.062400_IWEC.epw\"\n",
                "\n",
                "#choose the simulation period\n",
                "begin_day = 1\n",
                "begin_month = 1\n",
                "begin_year = 2022\n",
                "end_day = 1\n",
                "end_month = 2\n",
                "end_year = 2022\n",
                "\n",
                "#need to change the schedule\n",
                "#check for weekends\n",
                "\n",
                "\n",
                "\n",
                "extra_params={'timesteps_per_hour' : 4,\n",
                "              'runperiod' : (begin_day,begin_month,begin_year,end_day,end_month,end_year)}\n",
                "\n",
                "env = gym.make(environment, \n",
                "                weather_file=weather_file)\n",
                "\n",
                "\n",
                "\n",
                "# env = gym.make(\n",
                "#     environment#,\n",
                "#    # config_params = extra_params#,\n",
                "#     # action_variables=[],\n",
                "#     # action_space=gym.spaces.Box(\n",
                "#     #     low=0,\n",
                "#     #     high=0,\n",
                "#     #     shape=(0,)),\n",
                "#     # action_definition=None,)\n",
                "# )\n",
                "\n",
                "env = LoggerWrapper(env)\n",
                "\n",
                "# create rule-based controller\n",
                "agent = MyRuleBasedController(env)\n",
                "\n",
                "for i in range(1):\n",
                "    obs = env.reset()\n",
                "    rewards = []\n",
                "    done = False\n",
                "    current_month = 0\n",
                "    while not done:\n",
                "        action = agent.act(obs)\n",
                "       # a = env.action_space.sample()\n",
                "        obs, reward, done, info = env.step(action)\n",
                "        rewards.append(reward)\n",
                "        if info['month'] != current_month:  # display results every month\n",
                "            current_month = info['month']\n",
                "            print('Reward: ', sum(rewards), info)\n",
                "        if current_month == 2:\n",
                "            done = True\n",
                "\n",
                "env.close()"
            ]
        },
        {
            "cell_type": "code",
            "execution_count": null,
            "metadata": {},
            "outputs": [],
            "source": []
        }
    ],
    "metadata": {
        "kernelspec": {
            "display_name": "Python 3.10.6 64-bit",
            "language": "python",
            "name": "python3"
        },
        "language_info": {
            "codemirror_mode": {
                "name": "ipython",
                "version": 3
            },
            "file_extension": ".py",
            "mimetype": "text/x-python",
            "name": "python",
            "nbconvert_exporter": "python",
            "pygments_lexer": "ipython3",
            "version": "3.10.6"
        },
        "vscode": {
            "interpreter": {
                "hash": "e7370f93d1d0cde622a1f8e1c04877d8463912d04d973331ad4851f04de6915a"
            }
        }
    },
    "nbformat": 4,
    "nbformat_minor": 0
}
