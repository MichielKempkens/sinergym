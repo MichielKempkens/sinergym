{
    "cells": [
        {
            "cell_type": "markdown",
            "metadata": {
                "collapsed": false
            },
            "source": [
                "# Simple simulation without any actions taken"
            ]
        },
        {
            "attachments": {},
            "cell_type": "markdown",
            "metadata": {
                "collapsed": true,
                "pycharm": {
                    "name": "#%% md\n"
                }
            },
            "source": [
                "The goal of this file is to run a simple simulation with a plot of the temperatures inside and to calculate the total energy use for one month.\n",
                "\n",
                "<br>\n",
                "\n",
                "All the results can be found in the monitor.csv file. This file is under \"examples\" -> \"env name\" (in this case Eplus-demo-V1) -res and the new number after simulation (current is 27). Also progress.csv is available.\n",
                "\n",
                "<br>\n",
                "\n",
                "Questions:\n",
                "-   Why does every month only last 23 days?\n",
                "-   How to change the schedule. Now the temperature setpoint is 21,1C from 07:00 untill 12:00. The rest of the day it is 12,8C\n",
                "    -   Want to change this to 07:00-19:00\n",
                "\n",
                "\n",
                "<br>\n",
                "How to deal with weekends/ non-working hours? Just set it to 12 degrees or completely off.\n",
                "\n",
                "\n"
            ]
        },
        {
            "attachments": {},
            "cell_type": "markdown",
            "metadata": {},
            "source": [
                "# Rule-based controller"
            ]
        },
        {
            "cell_type": "code",
            "execution_count": 58,
            "metadata": {},
            "outputs": [],
            "source": [
                "from typing import List, Any, Sequence\n",
                "from sinergym.utils.common import get_season_comfort_range\n",
                "from datetime import datetime\n",
                "import gym\n",
                "import numpy as np\n",
                "import sinergym\n",
                "from sinergym.utils.wrappers import LoggerWrapper\n"
            ]
        },
        {
            "cell_type": "code",
            "execution_count": 59,
            "metadata": {},
            "outputs": [],
            "source": [
                "from sinergym.utils.controllers import RBC5Zone\n",
                "\n",
                "class MyRuleBasedController(RBC5Zone):\n",
                "\n",
                "    def act(self, observation: List[Any]) -> Sequence[Any]:\n",
                "        \"\"\"Select action based on outdoor air drybulb temperature and daytime.\n",
                "\n",
                "        Args:\n",
                "            observation (List[Any]): Perceived observation.\n",
                "\n",
                "        Returns:\n",
                "            Sequence[Any]: Action chosen.\n",
                "        \"\"\"\n",
                "        obs_dict = dict(zip(self.variables['observation'], observation))\n",
                "\n",
                "        out_temp = obs_dict['Site Outdoor Air Drybulb Temperature(Environment)']\n",
                "\n",
                "        begin_working_hour = 7\n",
                "        end_working_hour = 19\n",
                "\n",
                "        day = int(obs_dict['day'])\n",
                "        month = int(obs_dict['month'])\n",
                "        hour = int(obs_dict['hour'])\n",
                "        year = int(obs_dict['year'])\n",
                "\n",
                "        summer_start_date = datetime(year, 6, 1)\n",
                "        summer_final_date = datetime(year, 9, 30)\n",
                "\n",
                "        current_dt = datetime(year, month, day)\n",
                "\n",
                "        # Get season comfort range\n",
                "        if current_dt >= summer_start_date and current_dt <= summer_final_date:\n",
                "            season_comfort_range = self.setpoints_summer\n",
                "        else:\n",
                "            season_comfort_range = self.setpoints_winter\n",
                "        season_comfort_range = get_season_comfort_range(1991,month, day)\n",
                "        # Update setpoints\n",
                "        in_temp = obs_dict['Zone Air Temperature(SPACE1-1)']\n",
                "\n",
                "        current_heat_setpoint = obs_dict[\n",
                "            'Zone Thermostat Heating Setpoint Temperature(SPACE1-1)']\n",
                "        current_cool_setpoint = obs_dict[\n",
                "            'Zone Thermostat Cooling Setpoint Temperature(SPACE1-1)']\n",
                "\n",
                "        new_heat_setpoint = current_heat_setpoint\n",
                "        new_cool_setpoint = current_cool_setpoint\n",
                "\n",
                "        std_heat_setpoint = new_heat_setpoint\n",
                "        std_cool_setpoint = new_cool_setpoint\n",
                "\n",
                "        # if in_temp < season_comfort_range[0]:\n",
                "        #     new_heat_setpoint = current_heat_setpoint + 1\n",
                "        #     new_cool_setpoint = current_cool_setpoint + 1\n",
                "        # elif in_temp > season_comfort_range[1]:\n",
                "        #     new_cool_setpoint = current_cool_setpoint - 1\n",
                "        #     new_heat_setpoint = current_heat_setpoint - 1\n",
                "\n",
                "\n",
                "        action = (new_heat_setpoint, new_cool_setpoint)\n",
                "\n",
                "        if current_dt.weekday() >= 5 or hour not in range(begin_working_hour,end_working_hour):\n",
                "            action = (18, 25.5)\n",
                "        else:\n",
                "            action = (20.0, 23.5)\n",
                "            \n",
                "        return action"
            ]
        },
        {
            "cell_type": "code",
            "execution_count": 60,
            "metadata": {},
            "outputs": [
                {
                    "ename": "FileNotFoundError",
                    "evalue": "no file found at given path: /sinergym/sinergym/data/weather/NLD_Amsterdam.062400_IWEC.ddy",
                    "output_type": "error",
                    "traceback": [
                        "\u001b[0;31m---------------------------------------------------------------------------\u001b[0m",
                        "\u001b[0;31mFileNotFoundError\u001b[0m                         Traceback (most recent call last)",
                        "Cell \u001b[0;32mIn [60], line 21\u001b[0m\n\u001b[1;32m     13\u001b[0m \u001b[39m#need to change the schedule\u001b[39;00m\n\u001b[1;32m     14\u001b[0m \u001b[39m#check for weekends\u001b[39;00m\n\u001b[1;32m     18\u001b[0m extra_params\u001b[39m=\u001b[39m{\u001b[39m'\u001b[39m\u001b[39mtimesteps_per_hour\u001b[39m\u001b[39m'\u001b[39m : \u001b[39m4\u001b[39m,\n\u001b[1;32m     19\u001b[0m               \u001b[39m'\u001b[39m\u001b[39mrunperiod\u001b[39m\u001b[39m'\u001b[39m : (begin_day,begin_month,begin_year,end_day,end_month,end_year)}\n\u001b[0;32m---> 21\u001b[0m env \u001b[39m=\u001b[39m gym\u001b[39m.\u001b[39;49mmake(\u001b[39m'\u001b[39;49m\u001b[39mEplus-5Zone-hot-continuous-v1\u001b[39;49m\u001b[39m'\u001b[39;49m, \n\u001b[1;32m     22\u001b[0m                 weather_file\u001b[39m=\u001b[39;49m\u001b[39m'\u001b[39;49m\u001b[39mNLD_Amsterdam.062400_IWEC.epw\u001b[39;49m\u001b[39m'\u001b[39;49m)\n\u001b[1;32m     26\u001b[0m \u001b[39m# env = gym.make(\u001b[39;00m\n\u001b[1;32m     27\u001b[0m \u001b[39m#     environment#,\u001b[39;00m\n\u001b[1;32m     28\u001b[0m \u001b[39m#    # config_params = extra_params#,\u001b[39;00m\n\u001b[0;32m   (...)\u001b[0m\n\u001b[1;32m     34\u001b[0m \u001b[39m#     # action_definition=None,)\u001b[39;00m\n\u001b[1;32m     35\u001b[0m \u001b[39m# )\u001b[39;00m\n\u001b[1;32m     37\u001b[0m env \u001b[39m=\u001b[39m LoggerWrapper(env)\n",
                        "File \u001b[0;32m/usr/local/lib/python3.10/dist-packages/gym/envs/registration.py:235\u001b[0m, in \u001b[0;36mmake\u001b[0;34m(id, **kwargs)\u001b[0m\n\u001b[1;32m    234\u001b[0m \u001b[39mdef\u001b[39;00m \u001b[39mmake\u001b[39m(\u001b[39mid\u001b[39m, \u001b[39m*\u001b[39m\u001b[39m*\u001b[39mkwargs):\n\u001b[0;32m--> 235\u001b[0m     \u001b[39mreturn\u001b[39;00m registry\u001b[39m.\u001b[39;49mmake(\u001b[39mid\u001b[39;49m, \u001b[39m*\u001b[39;49m\u001b[39m*\u001b[39;49mkwargs)\n",
                        "File \u001b[0;32m/usr/local/lib/python3.10/dist-packages/gym/envs/registration.py:129\u001b[0m, in \u001b[0;36mEnvRegistry.make\u001b[0;34m(self, path, **kwargs)\u001b[0m\n\u001b[1;32m    127\u001b[0m     logger\u001b[39m.\u001b[39minfo(\u001b[39m\"\u001b[39m\u001b[39mMaking new env: \u001b[39m\u001b[39m%s\u001b[39;00m\u001b[39m\"\u001b[39m, path)\n\u001b[1;32m    128\u001b[0m spec \u001b[39m=\u001b[39m \u001b[39mself\u001b[39m\u001b[39m.\u001b[39mspec(path)\n\u001b[0;32m--> 129\u001b[0m env \u001b[39m=\u001b[39m spec\u001b[39m.\u001b[39;49mmake(\u001b[39m*\u001b[39;49m\u001b[39m*\u001b[39;49mkwargs)\n\u001b[1;32m    130\u001b[0m \u001b[39mreturn\u001b[39;00m env\n",
                        "File \u001b[0;32m/usr/local/lib/python3.10/dist-packages/gym/envs/registration.py:90\u001b[0m, in \u001b[0;36mEnvSpec.make\u001b[0;34m(self, **kwargs)\u001b[0m\n\u001b[1;32m     88\u001b[0m \u001b[39melse\u001b[39;00m:\n\u001b[1;32m     89\u001b[0m     \u001b[39mcls\u001b[39m \u001b[39m=\u001b[39m load(\u001b[39mself\u001b[39m\u001b[39m.\u001b[39mentry_point)\n\u001b[0;32m---> 90\u001b[0m     env \u001b[39m=\u001b[39m \u001b[39mcls\u001b[39;49m(\u001b[39m*\u001b[39;49m\u001b[39m*\u001b[39;49m_kwargs)\n\u001b[1;32m     92\u001b[0m \u001b[39m# Make the environment aware of which spec it came from.\u001b[39;00m\n\u001b[1;32m     93\u001b[0m spec \u001b[39m=\u001b[39m copy\u001b[39m.\u001b[39mdeepcopy(\u001b[39mself\u001b[39m)\n",
                        "File \u001b[0;32m/sinergym/sinergym/envs/eplus_env.py:86\u001b[0m, in \u001b[0;36mEplusEnv.__init__\u001b[0;34m(self, idf_file, weather_file, observation_space, observation_variables, action_space, action_variables, action_mapping, weather_variability, reward, reward_kwargs, act_repeat, max_ep_data_store_num, action_definition, env_name, config_params)\u001b[0m\n\u001b[1;32m     81\u001b[0m \u001b[39mself\u001b[39m\u001b[39m.\u001b[39mvariables[\u001b[39m'\u001b[39m\u001b[39maction\u001b[39m\u001b[39m'\u001b[39m] \u001b[39m=\u001b[39m action_variables\n\u001b[1;32m     83\u001b[0m \u001b[39m# ---------------------------------------------------------------------------- #\u001b[39;00m\n\u001b[1;32m     84\u001b[0m \u001b[39m#                                   Simulator                                  #\u001b[39;00m\n\u001b[1;32m     85\u001b[0m \u001b[39m# ---------------------------------------------------------------------------- #\u001b[39;00m\n\u001b[0;32m---> 86\u001b[0m \u001b[39mself\u001b[39m\u001b[39m.\u001b[39msimulator \u001b[39m=\u001b[39m EnergyPlus(\n\u001b[1;32m     87\u001b[0m     env_name\u001b[39m=\u001b[39;49menv_name,\n\u001b[1;32m     88\u001b[0m     eplus_path\u001b[39m=\u001b[39;49meplus_path,\n\u001b[1;32m     89\u001b[0m     bcvtb_path\u001b[39m=\u001b[39;49mbcvtb_path,\n\u001b[1;32m     90\u001b[0m     idf_path\u001b[39m=\u001b[39;49m\u001b[39mself\u001b[39;49m\u001b[39m.\u001b[39;49midf_path,\n\u001b[1;32m     91\u001b[0m     weather_path\u001b[39m=\u001b[39;49m\u001b[39mself\u001b[39;49m\u001b[39m.\u001b[39;49mweather_path,\n\u001b[1;32m     92\u001b[0m     variables\u001b[39m=\u001b[39;49m\u001b[39mself\u001b[39;49m\u001b[39m.\u001b[39;49mvariables,\n\u001b[1;32m     93\u001b[0m     act_repeat\u001b[39m=\u001b[39;49mact_repeat,\n\u001b[1;32m     94\u001b[0m     max_ep_data_store_num\u001b[39m=\u001b[39;49mmax_ep_data_store_num,\n\u001b[1;32m     95\u001b[0m     action_definition\u001b[39m=\u001b[39;49maction_definition,\n\u001b[1;32m     96\u001b[0m     config_params\u001b[39m=\u001b[39;49mconfig_params\n\u001b[1;32m     97\u001b[0m )\n\u001b[1;32m     99\u001b[0m \u001b[39m# ---------------------------------------------------------------------------- #\u001b[39;00m\n\u001b[1;32m    100\u001b[0m \u001b[39m#                       Detection of controllable planners                     #\u001b[39;00m\n\u001b[1;32m    101\u001b[0m \u001b[39m# ---------------------------------------------------------------------------- #\u001b[39;00m\n\u001b[1;32m    102\u001b[0m \u001b[39mself\u001b[39m\u001b[39m.\u001b[39mschedulers \u001b[39m=\u001b[39m \u001b[39mself\u001b[39m\u001b[39m.\u001b[39mget_schedulers()\n",
                        "File \u001b[0;32m/sinergym/sinergym/simulators/eplus.py:95\u001b[0m, in \u001b[0;36mEnergyPlus.__init__\u001b[0;34m(self, eplus_path, weather_path, bcvtb_path, idf_path, env_name, variables, act_repeat, max_ep_data_store_num, action_definition, config_params)\u001b[0m\n\u001b[1;32m     92\u001b[0m \u001b[39mself\u001b[39m\u001b[39m.\u001b[39m_last_action \u001b[39m=\u001b[39m [\u001b[39m21.0\u001b[39m, \u001b[39m25.0\u001b[39m]\n\u001b[1;32m     94\u001b[0m \u001b[39m# Creating models config (with extra params if exits)\u001b[39;00m\n\u001b[0;32m---> 95\u001b[0m \u001b[39mself\u001b[39m\u001b[39m.\u001b[39m_config \u001b[39m=\u001b[39m Config(\n\u001b[1;32m     96\u001b[0m     idf_path\u001b[39m=\u001b[39;49m\u001b[39mself\u001b[39;49m\u001b[39m.\u001b[39;49m_idf_path,\n\u001b[1;32m     97\u001b[0m     weather_path\u001b[39m=\u001b[39;49m\u001b[39mself\u001b[39;49m\u001b[39m.\u001b[39;49m_weather_path,\n\u001b[1;32m     98\u001b[0m     variables\u001b[39m=\u001b[39;49mvariables,\n\u001b[1;32m     99\u001b[0m     env_name\u001b[39m=\u001b[39;49m\u001b[39mself\u001b[39;49m\u001b[39m.\u001b[39;49m_env_name,\n\u001b[1;32m    100\u001b[0m     max_ep_store\u001b[39m=\u001b[39;49m\u001b[39mself\u001b[39;49m\u001b[39m.\u001b[39;49m_max_ep_data_store_num,\n\u001b[1;32m    101\u001b[0m     action_definition\u001b[39m=\u001b[39;49maction_definition,\n\u001b[1;32m    102\u001b[0m     extra_config\u001b[39m=\u001b[39;49mconfig_params)\n\u001b[1;32m    104\u001b[0m \u001b[39m# Annotate experiment path in simulator\u001b[39;00m\n\u001b[1;32m    105\u001b[0m \u001b[39mself\u001b[39m\u001b[39m.\u001b[39m_env_working_dir_parent \u001b[39m=\u001b[39m \u001b[39mself\u001b[39m\u001b[39m.\u001b[39m_config\u001b[39m.\u001b[39mexperiment_path\n",
                        "File \u001b[0;32m/sinergym/sinergym/utils/config.py:73\u001b[0m, in \u001b[0;36mConfig.__init__\u001b[0;34m(self, idf_path, weather_path, variables, env_name, max_ep_store, action_definition, extra_config)\u001b[0m\n\u001b[1;32m     68\u001b[0m \u001b[39mself\u001b[39m\u001b[39m.\u001b[39m_idd \u001b[39m=\u001b[39m Idd(os\u001b[39m.\u001b[39mpath\u001b[39m.\u001b[39mjoin(os\u001b[39m.\u001b[39menviron[\u001b[39m'\u001b[39m\u001b[39mEPLUS_PATH\u001b[39m\u001b[39m'\u001b[39m], \u001b[39m'\u001b[39m\u001b[39mEnergy+.idd\u001b[39m\u001b[39m'\u001b[39m))\n\u001b[1;32m     69\u001b[0m \u001b[39mself\u001b[39m\u001b[39m.\u001b[39mbuilding \u001b[39m=\u001b[39m Epm\u001b[39m.\u001b[39mfrom_idf(\n\u001b[1;32m     70\u001b[0m     \u001b[39mself\u001b[39m\u001b[39m.\u001b[39m_idf_path,\n\u001b[1;32m     71\u001b[0m     idd_or_version\u001b[39m=\u001b[39m\u001b[39mself\u001b[39m\u001b[39m.\u001b[39m_idd,\n\u001b[1;32m     72\u001b[0m     check_length\u001b[39m=\u001b[39m\u001b[39mFalse\u001b[39;00m)\n\u001b[0;32m---> 73\u001b[0m \u001b[39mself\u001b[39m\u001b[39m.\u001b[39mddy_model \u001b[39m=\u001b[39m Epm\u001b[39m.\u001b[39;49mfrom_idf(\n\u001b[1;32m     74\u001b[0m     \u001b[39mself\u001b[39;49m\u001b[39m.\u001b[39;49m_ddy_path,\n\u001b[1;32m     75\u001b[0m     idd_or_version\u001b[39m=\u001b[39;49m\u001b[39mself\u001b[39;49m\u001b[39m.\u001b[39;49m_idd,\n\u001b[1;32m     76\u001b[0m     check_length\u001b[39m=\u001b[39;49m\u001b[39mFalse\u001b[39;49;00m)\n\u001b[1;32m     77\u001b[0m \u001b[39mself\u001b[39m\u001b[39m.\u001b[39mweather_data \u001b[39m=\u001b[39m WeatherData\u001b[39m.\u001b[39mfrom_epw(\u001b[39mself\u001b[39m\u001b[39m.\u001b[39m_weather_path)\n\u001b[1;32m     79\u001b[0m \u001b[39m# Extract idf zone names\u001b[39;00m\n",
                        "File \u001b[0;32m/usr/local/lib/python3.10/dist-packages/opyplus/epm/epm.py:438\u001b[0m, in \u001b[0;36mEpm.from_idf\u001b[0;34m(cls, buffer_or_path, check_required, check_length, idd_or_version)\u001b[0m\n\u001b[1;32m    429\u001b[0m \u001b[39m@classmethod\u001b[39m\n\u001b[1;32m    430\u001b[0m \u001b[39mdef\u001b[39;00m \u001b[39mfrom_idf\u001b[39m(\n\u001b[1;32m    431\u001b[0m         \u001b[39mcls\u001b[39m,\n\u001b[0;32m   (...)\u001b[0m\n\u001b[1;32m    435\u001b[0m         idd_or_version\u001b[39m=\u001b[39m\u001b[39mNone\u001b[39;00m\n\u001b[1;32m    436\u001b[0m ):\n\u001b[1;32m    437\u001b[0m     \u001b[39m\"\"\"See load.\"\"\"\u001b[39;00m\n\u001b[0;32m--> 438\u001b[0m     \u001b[39mreturn\u001b[39;00m \u001b[39mcls\u001b[39;49m\u001b[39m.\u001b[39;49m_create_from_buffer_or_path(\n\u001b[1;32m    439\u001b[0m         parse_idf,\n\u001b[1;32m    440\u001b[0m         buffer_or_path,\n\u001b[1;32m    441\u001b[0m         check_required\u001b[39m=\u001b[39;49mcheck_required,\n\u001b[1;32m    442\u001b[0m         check_length\u001b[39m=\u001b[39;49mcheck_length,\n\u001b[1;32m    443\u001b[0m         idd_or_version\u001b[39m=\u001b[39;49midd_or_version\n\u001b[1;32m    444\u001b[0m     )\n",
                        "File \u001b[0;32m/usr/local/lib/python3.10/dist-packages/opyplus/epm/epm.py:149\u001b[0m, in \u001b[0;36mEpm._create_from_buffer_or_path\u001b[0;34m(cls, parse_fct, buffer_or_path, idd_or_version, check_required, check_length)\u001b[0m\n\u001b[1;32m    139\u001b[0m \u001b[39m@classmethod\u001b[39m\n\u001b[1;32m    140\u001b[0m \u001b[39mdef\u001b[39;00m \u001b[39m_create_from_buffer_or_path\u001b[39m(\n\u001b[1;32m    141\u001b[0m         \u001b[39mcls\u001b[39m,\n\u001b[0;32m   (...)\u001b[0m\n\u001b[1;32m    147\u001b[0m ):\n\u001b[1;32m    148\u001b[0m     \u001b[39m# prepare buffer\u001b[39;00m\n\u001b[0;32m--> 149\u001b[0m     _source_file_path, buffer \u001b[39m=\u001b[39m to_buffer(buffer_or_path)\n\u001b[1;32m    151\u001b[0m     \u001b[39m# create json data\u001b[39;00m\n\u001b[1;32m    152\u001b[0m     \u001b[39mwith\u001b[39;00m buffer \u001b[39mas\u001b[39;00m f:\n",
                        "File \u001b[0;32m/usr/local/lib/python3.10/dist-packages/opyplus/util.py:297\u001b[0m, in \u001b[0;36mto_buffer\u001b[0;34m(buffer_or_path)\u001b[0m\n\u001b[1;32m    295\u001b[0m \u001b[39mif\u001b[39;00m \u001b[39misinstance\u001b[39m(buffer_or_path, \u001b[39mstr\u001b[39m):\n\u001b[1;32m    296\u001b[0m     \u001b[39mif\u001b[39;00m \u001b[39mnot\u001b[39;00m os\u001b[39m.\u001b[39mpath\u001b[39m.\u001b[39misfile(buffer_or_path):\n\u001b[0;32m--> 297\u001b[0m         \u001b[39mraise\u001b[39;00m \u001b[39mFileNotFoundError\u001b[39;00m(\u001b[39mf\u001b[39m\u001b[39m\"\u001b[39m\u001b[39mno file found at given path: \u001b[39m\u001b[39m{\u001b[39;00mbuffer_or_path\u001b[39m}\u001b[39;00m\u001b[39m\"\u001b[39m)\n\u001b[1;32m    298\u001b[0m     path \u001b[39m=\u001b[39m buffer_or_path\n\u001b[1;32m    299\u001b[0m     \u001b[39mwith\u001b[39;00m \u001b[39mopen\u001b[39m(buffer_or_path, \u001b[39m\"\u001b[39m\u001b[39mrb\u001b[39m\u001b[39m\"\u001b[39m) \u001b[39mas\u001b[39;00m f:\n",
                        "\u001b[0;31mFileNotFoundError\u001b[0m: no file found at given path: /sinergym/sinergym/data/weather/NLD_Amsterdam.062400_IWEC.ddy"
                    ]
                }
            ],
            "source": [
                "\n",
                "experiment_date = datetime.today().strftime('%Y-%m-%d %H:%M')\n",
                "#environment = 'Eplus-demo-v1'\n",
                "environment  = \"Eplus-5Zone-hot-continuous-v1\"\n",
                "weather_data = \"USA_NY_New.York-J.F.Kennedy.Intl.AP.744860_TMY3.epw\"\n",
                "\n",
                "#choose the simulation period\n",
                "begin_day = 1\n",
                "begin_month = 1\n",
                "begin_year = 2022\n",
                "end_day = 1\n",
                "end_month = 2\n",
                "end_year = 2022\n",
                "\n",
                "#need to change the schedule\n",
                "#check for weekends\n",
                "\n",
                "\n",
                "\n",
                "extra_params={'timesteps_per_hour' : 4,\n",
                "              'runperiod' : (begin_day,begin_month,begin_year,end_day,end_month,end_year)}\n",
                "\n",
                "env = gym.make(environment, \n",
                "                weather_file='')\n",
                "\n",
                "\n",
                "\n",
                "# env = gym.make(\n",
                "#     environment#,\n",
                "#    # config_params = extra_params#,\n",
                "#     # action_variables=[],\n",
                "#     # action_space=gym.spaces.Box(\n",
                "#     #     low=0,\n",
                "#     #     high=0,\n",
                "#     #     shape=(0,)),\n",
                "#     # action_definition=None,)\n",
                "# )\n",
                "\n",
                "env = LoggerWrapper(env)\n",
                "\n",
                "# create rule-based controller\n",
                "agent = MyRuleBasedController(env)\n",
                "\n",
                "for i in range(1):\n",
                "    obs = env.reset()\n",
                "    rewards = []\n",
                "    done = False\n",
                "    current_month = 0\n",
                "    while not done:\n",
                "        action = agent.act(obs)\n",
                "       # a = env.action_space.sample()\n",
                "        obs, reward, done, info = env.step(action)\n",
                "        rewards.append(reward)\n",
                "        if info['month'] != current_month:  # display results every month\n",
                "            current_month = info['month']\n",
                "            print('Reward: ', sum(rewards), info)\n",
                "        if current_month == 2:\n",
                "            done = True\n",
                "\n",
                "env.close()"
            ]
        },
        {
            "cell_type": "code",
            "execution_count": null,
            "metadata": {},
            "outputs": [],
            "source": []
        }
    ],
    "metadata": {
        "kernelspec": {
            "display_name": "Python 3.10.6 64-bit",
            "language": "python",
            "name": "python3"
        },
        "language_info": {
            "codemirror_mode": {
                "name": "ipython",
                "version": 3
            },
            "file_extension": ".py",
            "mimetype": "text/x-python",
            "name": "python",
            "nbconvert_exporter": "python",
            "pygments_lexer": "ipython3",
            "version": "3.10.6"
        },
        "vscode": {
            "interpreter": {
                "hash": "e7370f93d1d0cde622a1f8e1c04877d8463912d04d973331ad4851f04de6915a"
            }
        }
    },
    "nbformat": 4,
    "nbformat_minor": 0
}
