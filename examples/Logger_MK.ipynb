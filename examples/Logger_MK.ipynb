{
    "cells": [
        {
            "attachments": {},
            "cell_type": "markdown",
            "metadata": {},
            "source": [
                "Logger wrapper personalization"
            ]
        },
        {
            "attachments": {},
            "cell_type": "markdown",
            "metadata": {},
            "source": [
                "We will see in this notebook how to personalize the logger wrapper defined by sinergym"
            ]
        },
        {
            "cell_type": "code",
            "execution_count": 1,
            "metadata": {},
            "outputs": [
                {
                    "name": "stderr",
                    "output_type": "stream",
                    "text": [
                        "/usr/local/lib/python3.10/dist-packages/gym/spaces/box.py:73: UserWarning: \u001b[33mWARN: Box bound precision lowered by casting to float32\u001b[0m\n",
                        "  logger.warn(\n"
                    ]
                }
            ],
            "source": [
                "import gym\n",
                "import numpy as np\n",
                "import sinergym\n",
                "from sinergym.utils.wrappers import (LoggerWrapper, MultiObsWrapper,\n",
                "                                     NormalizeObservation)\n",
                "from sinergym.utils.constants import RANGES_5ZONE"
            ]
        },
        {
            "attachments": {},
            "cell_type": "markdown",
            "metadata": {},
            "source": [
                "First we need to change the CSV logger to modify the values written into the file on the function create_row_contents"
            ]
        },
        {
            "cell_type": "code",
            "execution_count": 2,
            "metadata": {},
            "outputs": [],
            "source": [
                "from sinergym.utils.logger import CSVLogger\n",
                "from typing import Any, Dict, Optional, Sequence, Tuple, Union, List\n",
                "\n",
                "class CustomCSVLogger(CSVLogger):\n",
                "\n",
                "    def __init__(\n",
                "            self,\n",
                "            monitor_header: str,\n",
                "            progress_header: str,\n",
                "            log_progress_file: str,\n",
                "            log_file: Optional[str] = None,\n",
                "            flag: bool = True):\n",
                "        super(CustomCSVLogger, self).__init__(monitor_header,progress_header,log_progress_file,log_file,flag)\n",
                "        self.last_10_steps_reward = [0]*10\n",
                "\n",
                "    def _create_row_content(\n",
                "            self,\n",
                "            obs: List[Any],\n",
                "            action: Union[int, np.ndarray, List[Any]],\n",
                "            reward: Optional[float],\n",
                "            done: bool,\n",
                "            info: Optional[Dict[str, Any]]) -> List:\n",
                "\n",
                "        if reward is not None:\n",
                "            self.last_10_steps_reward.pop(0)\n",
                "            self.last_10_steps_reward.append(reward)\n",
                "\n",
                "        if info is None:  # In a reset\n",
                "            return [0] + list(obs) + list(action) + \\\n",
                "                [0, reward, np.mean(self.last_10_steps_reward), None, None, None, done]\n",
                "        else:\n",
                "            return [\n",
                "                info['timestep']] + list(obs) + list(action) + [\n",
                "                info['time_elapsed'],\n",
                "                reward,\n",
                "                np.mean(self.last_10_steps_reward),\n",
                "                info['total_power_no_units'],\n",
                "                info['comfort_penalty'],\n",
                "                info['abs_comfort'],\n",
                "                done]"
            ]
        },
        {
            "cell_type": "code",
            "execution_count": null,
            "metadata": {},
            "outputs": [],
            "source": []
        }
    ],
    "metadata": {
        "kernelspec": {
            "display_name": "Python 3.10.6 64-bit",
            "language": "python",
            "name": "python3"
        },
        "language_info": {
            "codemirror_mode": {
                "name": "ipython",
                "version": 3
            },
            "file_extension": ".py",
            "mimetype": "text/x-python",
            "name": "python",
            "nbconvert_exporter": "python",
            "pygments_lexer": "ipython3",
            "version": "3.10.6"
        },
        "vscode": {
            "interpreter": {
                "hash": "e7370f93d1d0cde622a1f8e1c04877d8463912d04d973331ad4851f04de6915a"
            }
        }
    },
    "nbformat": 4,
    "nbformat_minor": 0
}
